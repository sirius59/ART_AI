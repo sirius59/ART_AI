{
  "nbformat": 4,
  "nbformat_minor": 0,
  "metadata": {
    "colab": {
      "name": "ART_AI.ipynb",
      "provenance": [],
      "toc_visible": true,
      "authorship_tag": "ABX9TyPf4GHUFxE+YOG7MWRxe1Vs",
      "include_colab_link": true
    },
    "kernelspec": {
      "name": "python3",
      "display_name": "Python 3"
    },
    "language_info": {
      "name": "python"
    },
    "accelerator": "GPU"
  },
  "cells": [
    {
      "cell_type": "markdown",
      "metadata": {
        "id": "view-in-github",
        "colab_type": "text"
      },
      "source": [
        "<a href=\"https://colab.research.google.com/github/sirius59/ART_AI/blob/sirius59-patch/ART_AI.ipynb\" target=\"_parent\"><img src=\"https://colab.research.google.com/assets/colab-badge.svg\" alt=\"Open In Colab\"/></a>"
      ]
    },
    {
      "cell_type": "markdown",
      "metadata": {
        "id": "qTtfeJOh8inH"
      },
      "source": [
        "Binôme T: De Carvalho Mickael et Laisney Clément\n",
        "\n",
        "algorithme qui prédit le style de l'oeuvre d'art (impressionnisme, pop art, cubisme etc...) et peut être je dit bien PEUT ETRE \n",
        "arriver à un algorithme qui créer une oeuvre en fonction du style demandé.\n",
        "\n",
        "jeu de données:\n",
        "https://www.kaggle.com/ikarus777/best-artworks-of-all-time\n",
        "\n",
        "points de départ: \n",
        "\n",
        "- réseau de convolution\n",
        "- réduction de dimension pour classer \n",
        "\n",
        "retrouvez notre travail sur https://github.com/sirius59/ART_AI"
      ]
    },
    {
      "cell_type": "markdown",
      "metadata": {
        "id": "QQRMukOvdEX9"
      },
      "source": [
        "### Import libraries"
      ]
    },
    {
      "cell_type": "code",
      "metadata": {
        "id": "U04yyuSedC2X"
      },
      "source": [
        "from io import BytesIO\n",
        "from urllib.request import urlopen\n",
        "from zipfile import ZipFile\n",
        "import pandas as pd\n",
        "import numpy as np\n",
        "import matplotlib.pyplot as plt\n",
        "%matplotlib inline\n",
        "from sklearn.model_selection import train_test_split\n",
        "from keras.utils import to_categorical\n",
        "from keras.models import Sequential\n",
        "from keras.layers import Dense, Dropout, Flatten, Conv2D, MaxPooling2D"
      ],
      "execution_count": 2,
      "outputs": []
    },
    {
      "cell_type": "markdown",
      "metadata": {
        "id": "IIXYVwDydKnI"
      },
      "source": [
        "### Download the dataset from internet and extract it on the system\n",
        "\n",
        "**We resized all images to 562x562 with a preview script available in the github page:** https://github.com/sirius59/ART_AI/blob/main/traitement%20des%20images.py\n",
        "\n",
        "NB: replace the link by a new one using this URL in case of an issue like \"file is not a zipfile\" https://www.mediafire.com/file/v5jpwfjeldhmc8z/dataset_resized.zip/file"
      ]
    },
    {
      "cell_type": "code",
      "metadata": {
        "id": "BniX6cxMdOE6"
      },
      "source": [
        "zipurl = 'https://download1483.mediafire.com/azvmtxdfqs1g/v5jpwfjeldhmc8z/dataset_resized.zip'\n",
        "with urlopen(zipurl) as zipresp:\n",
        "  with ZipFile(BytesIO(zipresp.read())) as zfile:\n",
        "    zfile.extractall()"
      ],
      "execution_count": 3,
      "outputs": []
    },
    {
      "cell_type": "markdown",
      "metadata": {
        "id": "e-qFsuSLKrSs"
      },
      "source": [
        "# Core of the script"
      ]
    },
    {
      "cell_type": "markdown",
      "metadata": {
        "id": "b13-6x_ldR3V"
      },
      "source": [
        "## Extracting metadata from artist.csv and labelize genres"
      ]
    },
    {
      "cell_type": "code",
      "metadata": {
        "id": "duzXnZZmdU6y",
        "colab": {
          "base_uri": "https://localhost:8080/"
        },
        "outputId": "5796117a-dd77-44c1-8b17-b354b241b8bb"
      },
      "source": [
        "artists=pd.read_csv('/content/dataset_resized/artists.csv')\n",
        "\n",
        "##name of artists\n",
        "artists['name'][19]='Albrecht_Durer' #fix ASCII problems\n",
        "tmp=artists['name']\n",
        "name=[tmp[i].replace(' ','_') for i in range(len(tmp))]#replace space by underscore, more convinent to import images\n",
        "\n",
        "##genre of artists\n",
        "tmp=artists['genre']\n",
        "genre=[tmp[i].replace(',','/') for i in range(len(tmp))]#replace coma by slash, avoid mistakes in list\n",
        "\n",
        "##number of paintings by artists\n",
        "nb_paints=artists['paintings']"
      ],
      "execution_count": 4,
      "outputs": [
        {
          "output_type": "stream",
          "text": [
            "/usr/local/lib/python3.7/dist-packages/ipykernel_launcher.py:4: SettingWithCopyWarning: \n",
            "A value is trying to be set on a copy of a slice from a DataFrame\n",
            "\n",
            "See the caveats in the documentation: https://pandas.pydata.org/pandas-docs/stable/user_guide/indexing.html#returning-a-view-versus-a-copy\n",
            "  after removing the cwd from sys.path.\n"
          ],
          "name": "stderr"
        }
      ]
    },
    {
      "cell_type": "markdown",
      "metadata": {
        "id": "TwGWr6ykl8Sv"
      },
      "source": [
        "Labelize a genre with a number"
      ]
    },
    {
      "cell_type": "code",
      "metadata": {
        "id": "qJC-ghJAlq3i"
      },
      "source": [
        "#genre_label={'Expressionism':1,'Abstractionism':2,'Social Realism':3,'Muralism':4,'Impressionism':5,'Surrealism':6,'Byzantine Art':7,'Post-Impressionism':8,'Symbolism':9,'Art Nouveau':10,'Northern Renaissance':11,'Suprematism':12,'Cubism':13,'Baroque':14,'Romanticism':15,'Primitivism':16,'Mannerism':17,'Proto Renaissance':18,'Early Renaissance':19,'High Renaissance':20,'Neoplasticism':21,'Pop Art':22,'Abstract Expressionism':23}\n",
        "#labelize a genre by a number"
      ],
      "execution_count": 5,
      "outputs": []
    },
    {
      "cell_type": "code",
      "metadata": {
        "id": "VAvDbVpVBrqL"
      },
      "source": [
        "genre_label={'Impressionism':0,'Baroque':1}"
      ],
      "execution_count": 6,
      "outputs": []
    },
    {
      "cell_type": "markdown",
      "metadata": {
        "id": "yucAcUGccxOg"
      },
      "source": [
        "Function to find the key associated with the label"
      ]
    },
    {
      "cell_type": "code",
      "metadata": {
        "id": "M5tOD93gbdGO"
      },
      "source": [
        "def find_key(v): \n",
        "    for k, val in genre_label.items(): \n",
        "        if v == val: \n",
        "            return k \n",
        "    return \"Key does not exist\""
      ],
      "execution_count": 7,
      "outputs": []
    },
    {
      "cell_type": "markdown",
      "metadata": {
        "id": "Xb5asUrbmEKS"
      },
      "source": [
        "## Append all artworks in a list (for later)"
      ]
    },
    {
      "cell_type": "code",
      "metadata": {
        "id": "6OSBRm5SeMF3"
      },
      "source": [
        "#artworks=[]#list of [img,artist,genre]\n",
        "#for i in range(len(name)):\n",
        "#  for j in range(nb_paints[i]):\n",
        "#    data=[plt.imread(f'/content/dataset_resized/resized/{name[i]}_{j+1}.jpg'),name[i],genre[i]] #[img,artist,genre]\n",
        "#    artworks.append(data)"
      ],
      "execution_count": 8,
      "outputs": []
    },
    {
      "cell_type": "markdown",
      "metadata": {
        "id": "NyYUyMalCWUP"
      },
      "source": [
        "## Append artworks of 2 differents styles in a list\n",
        "We choose 2 differents styles well represented in the dataset en choose 4 artists of each genre in order to have about 50/50 in term of artworks"
      ]
    },
    {
      "cell_type": "code",
      "metadata": {
        "id": "R-e5KttuCgtZ",
        "outputId": "ccb2c5ab-a68e-4542-8285-6d3deb74ba0a",
        "colab": {
          "base_uri": "https://localhost:8080/",
          "height": 282
        }
      },
      "source": [
        "artworks=[]\n",
        "artworks_genre=[]\n",
        "genre1=(3,14,15,20,25,27,31) #~50/50 impressionism/Baroque (peut être inclure moins d'image pour la RAM)\n",
        "for i in genre1:\n",
        "  for j in range(nb_paints[i]):\n",
        "    artworks.append(np.array(plt.imread(f'/content/dataset_resized/resized/{name[i]}_{j+1}.jpg')))\n",
        "    artworks_genre.append(genre[i])\n",
        "artworks=np.array(artworks) #images\n",
        "artworks_genre=np.array(artworks_genre) #string of the genre\n",
        "artworks_label=np.array([genre_label[artworks_genre[i]] for i in range(len(artworks_genre))]) #integer corresponding to the genre"
      ],
      "execution_count": 9,
      "outputs": [
        {
          "output_type": "stream",
          "text": [
            "/usr/local/lib/python3.7/dist-packages/ipykernel_launcher.py:8: VisibleDeprecationWarning: Creating an ndarray from ragged nested sequences (which is a list-or-tuple of lists-or-tuples-or ndarrays with different lengths or shapes) is deprecated. If you meant to do this, you must specify 'dtype=object' when creating the ndarray\n",
            "  \n"
          ],
          "name": "stderr"
        },
        {
          "output_type": "error",
          "ename": "ValueError",
          "evalue": "ignored",
          "traceback": [
            "\u001b[0;31m---------------------------------------------------------------------------\u001b[0m",
            "\u001b[0;31mValueError\u001b[0m                                Traceback (most recent call last)",
            "\u001b[0;32m<ipython-input-9-4875735e65dc>\u001b[0m in \u001b[0;36m<module>\u001b[0;34m()\u001b[0m\n\u001b[1;32m      6\u001b[0m     \u001b[0martworks\u001b[0m\u001b[0;34m.\u001b[0m\u001b[0mappend\u001b[0m\u001b[0;34m(\u001b[0m\u001b[0mnp\u001b[0m\u001b[0;34m.\u001b[0m\u001b[0marray\u001b[0m\u001b[0;34m(\u001b[0m\u001b[0mplt\u001b[0m\u001b[0;34m.\u001b[0m\u001b[0mimread\u001b[0m\u001b[0;34m(\u001b[0m\u001b[0;34mf'/content/dataset_resized/resized/{name[i]}_{j+1}.jpg'\u001b[0m\u001b[0;34m)\u001b[0m\u001b[0;34m)\u001b[0m\u001b[0;34m)\u001b[0m\u001b[0;34m\u001b[0m\u001b[0;34m\u001b[0m\u001b[0m\n\u001b[1;32m      7\u001b[0m     \u001b[0martworks_genre\u001b[0m\u001b[0;34m.\u001b[0m\u001b[0mappend\u001b[0m\u001b[0;34m(\u001b[0m\u001b[0mgenre\u001b[0m\u001b[0;34m[\u001b[0m\u001b[0mi\u001b[0m\u001b[0;34m]\u001b[0m\u001b[0;34m)\u001b[0m\u001b[0;34m\u001b[0m\u001b[0;34m\u001b[0m\u001b[0m\n\u001b[0;32m----> 8\u001b[0;31m \u001b[0martworks\u001b[0m\u001b[0;34m=\u001b[0m\u001b[0mnp\u001b[0m\u001b[0;34m.\u001b[0m\u001b[0marray\u001b[0m\u001b[0;34m(\u001b[0m\u001b[0martworks\u001b[0m\u001b[0;34m)\u001b[0m \u001b[0;31m#images\u001b[0m\u001b[0;34m\u001b[0m\u001b[0;34m\u001b[0m\u001b[0m\n\u001b[0m\u001b[1;32m      9\u001b[0m \u001b[0martworks_genre\u001b[0m\u001b[0;34m=\u001b[0m\u001b[0mnp\u001b[0m\u001b[0;34m.\u001b[0m\u001b[0marray\u001b[0m\u001b[0;34m(\u001b[0m\u001b[0martworks_genre\u001b[0m\u001b[0;34m)\u001b[0m \u001b[0;31m#string of the genre\u001b[0m\u001b[0;34m\u001b[0m\u001b[0;34m\u001b[0m\u001b[0m\n\u001b[1;32m     10\u001b[0m \u001b[0martworks_label\u001b[0m\u001b[0;34m=\u001b[0m\u001b[0mnp\u001b[0m\u001b[0;34m.\u001b[0m\u001b[0marray\u001b[0m\u001b[0;34m(\u001b[0m\u001b[0;34m[\u001b[0m\u001b[0mgenre_label\u001b[0m\u001b[0;34m[\u001b[0m\u001b[0martworks_genre\u001b[0m\u001b[0;34m[\u001b[0m\u001b[0mi\u001b[0m\u001b[0;34m]\u001b[0m\u001b[0;34m]\u001b[0m \u001b[0;32mfor\u001b[0m \u001b[0mi\u001b[0m \u001b[0;32min\u001b[0m \u001b[0mrange\u001b[0m\u001b[0;34m(\u001b[0m\u001b[0mlen\u001b[0m\u001b[0;34m(\u001b[0m\u001b[0martworks_genre\u001b[0m\u001b[0;34m)\u001b[0m\u001b[0;34m)\u001b[0m\u001b[0;34m]\u001b[0m\u001b[0;34m)\u001b[0m \u001b[0;31m#integer corresponding to the genre\u001b[0m\u001b[0;34m\u001b[0m\u001b[0;34m\u001b[0m\u001b[0m\n",
            "\u001b[0;31mValueError\u001b[0m: could not broadcast input array from shape (400,400,3) into shape (400,400)"
          ]
        }
      ]
    },
    {
      "cell_type": "markdown",
      "metadata": {
        "id": "yIvCutPSYHuH"
      },
      "source": [
        "We choose to represent 2 differents artworks of each genre in order to visualize datas"
      ]
    },
    {
      "cell_type": "code",
      "metadata": {
        "id": "zzr5SiISeagz",
        "colab": {
          "base_uri": "https://localhost:8080/",
          "height": 298
        },
        "outputId": "733344ed-d4f0-410c-ff4e-365c28e0f2f1"
      },
      "source": [
        "plt.figure()\n",
        "plt.subplots_adjust(wspace=1, hspace=1)\n",
        "plt.subplot(221)\n",
        "plt.imshow(artworks[0])\n",
        "plt.title(f'{artworks_genre[0]}')\n",
        "plt.subplot(222)\n",
        "plt.imshow(artworks[300])\n",
        "plt.title(f'{artworks_genre[300]}')\n",
        "plt.subplot(223)\n",
        "plt.imshow(artworks[-1])\n",
        "plt.title(f'{artworks_genre[-1]}')\n",
        "plt.subplot(224)\n",
        "plt.imshow(artworks[-200])\n",
        "plt.title(f'{artworks_genre[-200]}')"
      ],
      "execution_count": null,
      "outputs": [
        {
          "output_type": "execute_result",
          "data": {
            "text/plain": [
              "Text(0.5, 1.0, 'Baroque')"
            ]
          },
          "metadata": {
            "tags": []
          },
          "execution_count": 8
        },
        {
          "output_type": "display_data",
          "data": {
            "image/png": "[encoded data removed]",
            "text/plain": [
              "<Figure size 432x288 with 4 Axes>"
            ]
          },
          "metadata": {
            "tags": [],
            "needs_background": "light"
          }
        }
      ]
    },
    {
      "cell_type": "code",
      "metadata": {
        "id": "xL4bEzsoQYvY"
      },
      "source": [
        "prepared_label=to_categorical(artworks_label) #vectorize the label"
      ],
      "execution_count": null,
      "outputs": []
    },
    {
      "cell_type": "markdown",
      "metadata": {
        "id": "U8ufP0ZbPXl9"
      },
      "source": [
        "## Shuffle and split of the dataset"
      ]
    },
    {
      "cell_type": "code",
      "metadata": {
        "id": "TSjEiGDQRJNW"
      },
      "source": [
        "x_train,x_test,y_train,y_test=train_test_split(artworks,prepared_label, test_size=0.33, random_state=42, shuffle=True)"
      ],
      "execution_count": null,
      "outputs": []
    },
    {
      "cell_type": "markdown",
      "metadata": {
        "id": "3A-yvpf-SwCw"
      },
      "source": [
        "## CNN"
      ]
    },
    {
      "cell_type": "code",
      "metadata": {
        "id": "xxdXwwV5CrBy"
      },
      "source": [
        "input_shape=xtrain.shape[1:]"
      ],
      "execution_count": null,
      "outputs": []
    },
    {
      "cell_type": "code",
      "metadata": {
        "id": "pKU-i8t-SkKS"
      },
      "source": [
        "model=Sequential()\n",
        "\n",
        "model.add(Conv2D(64, kernel_size=(3,3), activation='relu', input_shape=input_shape))\n",
        "model.add(MaxPooling2D(pool_size=(2,2)))\n",
        "\n",
        "model.add(Conv2D(64, kernel_size=(3,3), activation='relu'))\n",
        "model.add(Dropout(0.25))\n",
        "\n",
        "model.add(Flatten())\n",
        "\n",
        "model.add(Dense(128, activation='relu'))\n",
        "model.add(Dropout(0.33))\n",
        "model.add(Dense(2, activation='softmax'))"
      ],
      "execution_count": null,
      "outputs": []
    }
  ]
}