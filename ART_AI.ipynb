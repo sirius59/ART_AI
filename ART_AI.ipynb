{
  "nbformat": 4,
  "nbformat_minor": 0,
  "metadata": {
    "colab": {
      "name": "ART_AI.ipynb",
      "provenance": [],
      "toc_visible": true,
      "authorship_tag": "ABX9TyMqc2pQ0DYP8IQ+e9A1DZNY",
      "include_colab_link": true
    },
    "kernelspec": {
      "name": "python3",
      "display_name": "Python 3"
    },
    "language_info": {
      "name": "python"
    },
    "accelerator": "GPU"
  },
  "cells": [
    {
      "cell_type": "markdown",
      "metadata": {
        "id": "view-in-github",
        "colab_type": "text"
      },
      "source": [
        "<a href=\"https://colab.research.google.com/github/sirius59/ART_AI/blob/sirius59-patch/ART_AI.ipynb\" target=\"_parent\"><img src=\"https://colab.research.google.com/assets/colab-badge.svg\" alt=\"Open In Colab\"/></a>"
      ]
    },
    {
      "cell_type": "markdown",
      "metadata": {
        "id": "qTtfeJOh8inH"
      },
      "source": [
        "Binôme T: De Carvalho Mickael et Laisney Clément\n",
        "\n",
        "algorithme qui prédit le style de l'oeuvre d'art (impressionnisme, pop art, cubisme etc...) et peut être je dit bien PEUT ETRE \n",
        "arriver à un algorithme qui créer une oeuvre en fonction du style demandé.\n",
        "\n",
        "jeu de données:\n",
        "https://www.kaggle.com/ikarus777/best-artworks-of-all-time\n",
        "\n",
        "points de départ: \n",
        "\n",
        "- réseau de convolution\n",
        "- réduction de dimension pour classer \n",
        "\n",
        "retrouvez notre travail sur https://github.com/sirius59/ART_AI"
      ]
    },
    {
      "cell_type": "markdown",
      "metadata": {
        "id": "QQRMukOvdEX9"
      },
      "source": [
        "### Import libraries"
      ]
    },
    {
      "cell_type": "code",
      "metadata": {
        "id": "U04yyuSedC2X"
      },
      "source": [
        "from io import BytesIO\n",
        "from urllib.request import urlopen\n",
        "from zipfile import ZipFile\n",
        "import pandas as pd\n",
        "import numpy as np\n",
        "import matplotlib.pyplot as plt\n",
        "%matplotlib inline\n",
        "from sklearn.model_selection import train_test_split\n",
        "from keras.utils import to_categorical\n",
        "from keras.models import Sequential\n",
        "from keras.layers import Dense, Dropout, Flatten, Conv2D, MaxPooling2D"
      ],
      "execution_count": 1,
      "outputs": []
    },
    {
      "cell_type": "markdown",
      "metadata": {
        "id": "IIXYVwDydKnI"
      },
      "source": [
        "### Download the dataset from internet and extract it on the system\n",
        "\n",
        "**We resized all images to 562x562 with a preview script available in the github page:** https://github.com/sirius59/ART_AI/blob/main/traitement%20des%20images.py\n",
        "\n",
        "NB: replace the link by a new one using this URL in case of an issue like \"file is not a zipfile\" https://www.mediafire.com/file/v5jpwfjeldhmc8z/dataset_resized.zip/file"
      ]
    },
    {
      "cell_type": "code",
      "metadata": {
        "id": "BniX6cxMdOE6"
      },
      "source": [
        "zipurl = 'https://download1483.mediafire.com/azvmtxdfqs1g/v5jpwfjeldhmc8z/dataset_resized.zip'\n",
        "with urlopen(zipurl) as zipresp:\n",
        "  with ZipFile(BytesIO(zipresp.read())) as zfile:\n",
        "    zfile.extractall()"
      ],
      "execution_count": 60,
      "outputs": []
    },
    {
      "cell_type": "markdown",
      "metadata": {
        "id": "e-qFsuSLKrSs"
      },
      "source": [
        "# Core of the script"
      ]
    },
    {
      "cell_type": "markdown",
      "metadata": {
        "id": "b13-6x_ldR3V"
      },
      "source": [
        "## Extracting metadata from artist.csv and labelize genres"
      ]
    },
    {
      "cell_type": "code",
      "metadata": {
        "id": "duzXnZZmdU6y",
        "colab": {
          "base_uri": "https://localhost:8080/"
        },
        "outputId": "393dc680-4ff3-49e7-e08a-b92929dfb4f7"
      },
      "source": [
        "artists=pd.read_csv('/content/dataset_resized/artists.csv')\n",
        "\n",
        "##name of artists\n",
        "artists['name'][19]='Albrecht_Durer' #fix ASCII problems\n",
        "tmp=artists['name']\n",
        "name=[tmp[i].replace(' ','_') for i in range(len(tmp))]#replace space by underscore, more convinent to import images\n",
        "\n",
        "##genre of artists\n",
        "tmp=artists['genre']\n",
        "genre=[tmp[i].replace(',','/') for i in range(len(tmp))]#replace coma by slash, avoid mistakes in list\n",
        "\n",
        "##number of paintings by artists\n",
        "nb_paints=artists['paintings']"
      ],
      "execution_count": 2,
      "outputs": [
        {
          "output_type": "stream",
          "text": [
            "/usr/local/lib/python3.7/dist-packages/ipykernel_launcher.py:4: SettingWithCopyWarning: \n",
            "A value is trying to be set on a copy of a slice from a DataFrame\n",
            "\n",
            "See the caveats in the documentation: https://pandas.pydata.org/pandas-docs/stable/user_guide/indexing.html#returning-a-view-versus-a-copy\n",
            "  after removing the cwd from sys.path.\n"
          ],
          "name": "stderr"
        }
      ]
    },
    {
      "cell_type": "markdown",
      "metadata": {
        "id": "TwGWr6ykl8Sv"
      },
      "source": [
        "Labelize a genre with a number"
      ]
    },
    {
      "cell_type": "code",
      "metadata": {
        "id": "qJC-ghJAlq3i"
      },
      "source": [
        "#genre_label={'Expressionism':1,'Abstractionism':2,'Social Realism':3,'Muralism':4,'Impressionism':5,'Surrealism':6,'Byzantine Art':7,'Post-Impressionism':8,'Symbolism':9,'Art Nouveau':10,'Northern Renaissance':11,'Suprematism':12,'Cubism':13,'Baroque':14,'Romanticism':15,'Primitivism':16,'Mannerism':17,'Proto Renaissance':18,'Early Renaissance':19,'High Renaissance':20,'Neoplasticism':21,'Pop Art':22,'Abstract Expressionism':23}\n",
        "#labelize a genre by a number"
      ],
      "execution_count": 3,
      "outputs": []
    },
    {
      "cell_type": "code",
      "metadata": {
        "id": "VAvDbVpVBrqL"
      },
      "source": [
        "genre_label={'Impressionism':0,'Baroque':1}"
      ],
      "execution_count": 4,
      "outputs": []
    },
    {
      "cell_type": "markdown",
      "metadata": {
        "id": "yucAcUGccxOg"
      },
      "source": [
        "Function to find the key associated with the label"
      ]
    },
    {
      "cell_type": "code",
      "metadata": {
        "id": "M5tOD93gbdGO"
      },
      "source": [
        "def find_key(v): \n",
        "    for k, val in genre_label.items(): \n",
        "        if v == val: \n",
        "            return k \n",
        "    return \"Key does not exist\""
      ],
      "execution_count": 5,
      "outputs": []
    },
    {
      "cell_type": "markdown",
      "metadata": {
        "id": "Xb5asUrbmEKS"
      },
      "source": [
        "## Append all artworks in a list (for later)"
      ]
    },
    {
      "cell_type": "code",
      "metadata": {
        "id": "6OSBRm5SeMF3"
      },
      "source": [
        "#artworks=[]#list of [img,artist,genre]\n",
        "#for i in range(len(name)):\n",
        "#  for j in range(nb_paints[i]):\n",
        "#    data=[plt.imread(f'/content/dataset_resized/resized/{name[i]}_{j+1}.jpg'),name[i],genre[i]] #[img,artist,genre]\n",
        "#    artworks.append(data)"
      ],
      "execution_count": 6,
      "outputs": []
    },
    {
      "cell_type": "markdown",
      "metadata": {
        "id": "NyYUyMalCWUP"
      },
      "source": [
        "## Append artworks of 2 differents styles in a list\n",
        "We choose 2 differents styles well represented in the dataset en choose 4 artists of each genre in order to have about 50/50 in term of artworks"
      ]
    },
    {
      "cell_type": "code",
      "metadata": {
        "id": "R-e5KttuCgtZ"
      },
      "source": [
        "input_shape=plt.imread(f'/content/dataset_resized/resized/{name[i]}_{j+1}.jpg').shape\n",
        "artworks=[]\n",
        "artworks_genre=[]\n",
        "genre1=(3,14,15,20,25,27,31) #~50/50 impressionism/Baroque (maybe include less images to save RAM)\n",
        "for i in genre1:\n",
        "  for j in range(nb_paints[i]):\n",
        "    if i==20 and j==198:#shape problem for this image\n",
        "      continue\n",
        "    artworks.append(plt.imread(f'/content/dataset_resized/resized/{name[i]}_{j+1}.jpg'))\n",
        "    artworks_genre.append(genre[i])\n",
        "artworks=np.array(artworks) #images\n",
        "artworks_genre=np.array(artworks_genre) #string of the genre\n",
        "artworks_label=np.array([genre_label[artworks_genre[i]] for i in range(len(artworks_genre))]) #integer corresponding to the genre"
      ],
      "execution_count": 12,
      "outputs": []
    },
    {
      "cell_type": "markdown",
      "metadata": {
        "id": "yIvCutPSYHuH"
      },
      "source": [
        "We choose to represent 2 differents artworks of each genre in order to visualize datas"
      ]
    },
    {
      "cell_type": "code",
      "metadata": {
        "id": "zzr5SiISeagz",
        "colab": {
          "base_uri": "https://localhost:8080/",
          "height": 298
        },
        "outputId": "01097e10-3a85-444b-b3be-8caa5dea5caf"
      },
      "source": [
        "plt.figure()\n",
        "plt.subplots_adjust(wspace=1, hspace=1)\n",
        "plt.subplot(221)\n",
        "plt.imshow(artworks[0])\n",
        "plt.title(f'{artworks_genre[0]}')\n",
        "plt.subplot(222)\n",
        "plt.imshow(artworks[300])\n",
        "plt.title(f'{artworks_genre[300]}')\n",
        "plt.subplot(223)\n",
        "plt.imshow(artworks[-1])\n",
        "plt.title(f'{artworks_genre[-1]}')\n",
        "plt.subplot(224)\n",
        "plt.imshow(artworks[-200])\n",
        "plt.title(f'{artworks_genre[-200]}')"
      ],
      "execution_count": 13,
      "outputs": [
        {
          "output_type": "execute_result",
          "data": {
            "text/plain": [
              "Text(0.5, 1.0, 'Baroque')"
            ]
          },
          "metadata": {
            "tags": []
          },
          "execution_count": 13
        },
        {
          "output_type": "display_data",
          "data": {
            "image/png": "[encoded data removed]",
            "text/plain": [
              "<Figure size 432x288 with 4 Axes>"
            ]
          },
          "metadata": {
            "tags": [],
            "needs_background": "light"
          }
        }
      ]
    },
    {
      "cell_type": "code",
      "metadata": {
        "id": "xL4bEzsoQYvY"
      },
      "source": [
        "prepared_label=to_categorical(artworks_label) #vectorize the label"
      ],
      "execution_count": 14,
      "outputs": []
    },
    {
      "cell_type": "markdown",
      "metadata": {
        "id": "U8ufP0ZbPXl9"
      },
      "source": [
        "## Shuffle and split of the dataset"
      ]
    },
    {
      "cell_type": "code",
      "metadata": {
        "id": "TSjEiGDQRJNW"
      },
      "source": [
        "x_train,x_test,y_train,y_test=train_test_split(artworks,artworks_label, test_size=0.33, random_state=42, shuffle=True)"
      ],
      "execution_count": 15,
      "outputs": []
    },
    {
      "cell_type": "markdown",
      "metadata": {
        "id": "3A-yvpf-SwCw"
      },
      "source": [
        "## CNN"
      ]
    },
    {
      "cell_type": "code",
      "metadata": {
        "id": "pKU-i8t-SkKS"
      },
      "source": [
        "model=Sequential()\n",
        "\n",
        "model.add(Conv2D(64, kernel_size=(3,3), activation='relu', input_shape=input_shape))\n",
        "model.add(MaxPooling2D(pool_size=(2,2)))\n",
        "\n",
        "model.add(Conv2D(64, kernel_size=(3,3), activation='relu'))\n",
        "model.add(MaxPooling2D(pool_size=(2,2)))\n",
        "model.add(Dropout(0.25))\n",
        "\n",
        "model.add(Conv2D(64, kernel_size=(3,3), activation='relu'))\n",
        "model.add(MaxPooling2D(pool_size=(2,2)))\n",
        "model.add(Dropout(0.25))\n",
        "\n",
        "model.add(Conv2D(64, kernel_size=(3,3), activation='relu'))\n",
        "model.add(MaxPooling2D(pool_size=(2,2)))\n",
        "model.add(Dropout(0.25))\n",
        "\n",
        "model.add(Conv2D(64, kernel_size=(3,3), activation='relu'))\n",
        "model.add(MaxPooling2D(pool_size=(2,2)))\n",
        "model.add(Dropout(0.25))\n",
        "\n",
        "model.add(Conv2D(64, kernel_size=(3,3), activation='relu'))\n",
        "model.add(MaxPooling2D(pool_size=(2,2)))\n",
        "model.add(Dropout(0.25))\n",
        "\n",
        "model.add(Conv2D(64, kernel_size=(3,3), activation='relu'))\n",
        "model.add(MaxPooling2D(pool_size=(2,2)))\n",
        "model.add(Dropout(0.25))\n",
        "\n",
        "model.add(Flatten())\n",
        "\n",
        "model.add(Dense(128, activation='relu'))\n",
        "model.add(Dropout(0.33))\n",
        "model.add(Dense(1, activation='softmax'))"
      ],
      "execution_count": 20,
      "outputs": []
    },
    {
      "cell_type": "code",
      "metadata": {
        "id": "vsPTCszyU3YL"
      },
      "source": [
        "model.compile(optimizer='adam', loss='categorical_crossentropy', metrics=['accuracy'])"
      ],
      "execution_count": 21,
      "outputs": []
    },
    {
      "cell_type": "code",
      "metadata": {
        "id": "szXZsgNOVFog",
        "outputId": "89ecf6ec-164e-4682-e2e7-a657c3d82d29",
        "colab": {
          "base_uri": "https://localhost:8080/"
        }
      },
      "source": [
        "model.summary()"
      ],
      "execution_count": 22,
      "outputs": [
        {
          "output_type": "stream",
          "text": [
            "Model: \"sequential_2\"\n",
            "_________________________________________________________________\n",
            "Layer (type)                 Output Shape              Param #   \n",
            "=================================================================\n",
            "conv2d_7 (Conv2D)            (None, 398, 398, 64)      1792      \n",
            "_________________________________________________________________\n",
            "max_pooling2d_7 (MaxPooling2 (None, 199, 199, 64)      0         \n",
            "_________________________________________________________________\n",
            "conv2d_8 (Conv2D)            (None, 197, 197, 64)      36928     \n",
            "_________________________________________________________________\n",
            "max_pooling2d_8 (MaxPooling2 (None, 98, 98, 64)        0         \n",
            "_________________________________________________________________\n",
            "dropout_7 (Dropout)          (None, 98, 98, 64)        0         \n",
            "_________________________________________________________________\n",
            "conv2d_9 (Conv2D)            (None, 96, 96, 64)        36928     \n",
            "_________________________________________________________________\n",
            "max_pooling2d_9 (MaxPooling2 (None, 48, 48, 64)        0         \n",
            "_________________________________________________________________\n",
            "dropout_8 (Dropout)          (None, 48, 48, 64)        0         \n",
            "_________________________________________________________________\n",
            "conv2d_10 (Conv2D)           (None, 46, 46, 64)        36928     \n",
            "_________________________________________________________________\n",
            "max_pooling2d_10 (MaxPooling (None, 23, 23, 64)        0         \n",
            "_________________________________________________________________\n",
            "dropout_9 (Dropout)          (None, 23, 23, 64)        0         \n",
            "_________________________________________________________________\n",
            "conv2d_11 (Conv2D)           (None, 21, 21, 64)        36928     \n",
            "_________________________________________________________________\n",
            "max_pooling2d_11 (MaxPooling (None, 10, 10, 64)        0         \n",
            "_________________________________________________________________\n",
            "dropout_10 (Dropout)         (None, 10, 10, 64)        0         \n",
            "_________________________________________________________________\n",
            "conv2d_12 (Conv2D)           (None, 8, 8, 64)          36928     \n",
            "_________________________________________________________________\n",
            "max_pooling2d_12 (MaxPooling (None, 4, 4, 64)          0         \n",
            "_________________________________________________________________\n",
            "dropout_11 (Dropout)         (None, 4, 4, 64)          0         \n",
            "_________________________________________________________________\n",
            "conv2d_13 (Conv2D)           (None, 2, 2, 64)          36928     \n",
            "_________________________________________________________________\n",
            "max_pooling2d_13 (MaxPooling (None, 1, 1, 64)          0         \n",
            "_________________________________________________________________\n",
            "dropout_12 (Dropout)         (None, 1, 1, 64)          0         \n",
            "_________________________________________________________________\n",
            "flatten_1 (Flatten)          (None, 64)                0         \n",
            "_________________________________________________________________\n",
            "dense_2 (Dense)              (None, 128)               8320      \n",
            "_________________________________________________________________\n",
            "dropout_13 (Dropout)         (None, 128)               0         \n",
            "_________________________________________________________________\n",
            "dense_3 (Dense)              (None, 1)                 129       \n",
            "=================================================================\n",
            "Total params: 231,809\n",
            "Trainable params: 231,809\n",
            "Non-trainable params: 0\n",
            "_________________________________________________________________\n"
          ],
          "name": "stdout"
        }
      ]
    },
    {
      "cell_type": "code",
      "metadata": {
        "id": "uitH42eGVHhz",
        "outputId": "e71eeaba-0efe-4873-b82b-b574b3d89799",
        "colab": {
          "base_uri": "https://localhost:8080/"
        }
      },
      "source": [
        "model.fit(x_train,y_train, batch_size=64, epochs=2)"
      ],
      "execution_count": 23,
      "outputs": [
        {
          "output_type": "stream",
          "text": [
            "Epoch 1/2\n",
            "14/14 [==============================] - 42s 424ms/step - loss: 0.0000e+00 - accuracy: 0.4799\n",
            "Epoch 2/2\n",
            "14/14 [==============================] - 5s 342ms/step - loss: 0.0000e+00 - accuracy: 0.4669\n"
          ],
          "name": "stdout"
        },
        {
          "output_type": "execute_result",
          "data": {
            "text/plain": [
              "<tensorflow.python.keras.callbacks.History at 0x7f17500d7950>"
            ]
          },
          "metadata": {
            "tags": []
          },
          "execution_count": 23
        }
      ]
    },
    {
      "cell_type": "code",
      "metadata": {
        "id": "EnMK1qL4gVW1"
      },
      "source": [
        ""
      ],
      "execution_count": null,
      "outputs": []
    }
  ]
}