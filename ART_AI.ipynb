{
  "nbformat": 4,
  "nbformat_minor": 0,
  "metadata": {
    "colab": {
      "name": "ART_AI.ipynb",
      "provenance": [],
      "authorship_tag": "ABX9TyNKRaZUG1GvnwZgOEEfTtEO",
      "include_colab_link": true
    },
    "kernelspec": {
      "name": "python3",
      "display_name": "Python 3"
    },
    "language_info": {
      "name": "python"
    }
  },
  "cells": [
    {
      "cell_type": "markdown",
      "metadata": {
        "id": "view-in-github",
        "colab_type": "text"
      },
      "source": [
        "<a href=\"https://colab.research.google.com/github/sirius59/ART_AI/blob/main/ART_AI.ipynb\" target=\"_parent\"><img src=\"https://colab.research.google.com/assets/colab-badge.svg\" alt=\"Open In Colab\"/></a>"
      ]
    },
    {
      "cell_type": "markdown",
      "metadata": {
        "id": "QQRMukOvdEX9"
      },
      "source": [
        "Import libraries"
      ]
    },
    {
      "cell_type": "code",
      "metadata": {
        "id": "U04yyuSedC2X"
      },
      "source": [
        "from io import BytesIO\n",
        "from urllib.request import urlopen\n",
        "from zipfile import ZipFile\n",
        "import pandas as pd\n",
        "import numpy as np\n",
        "import matplotlib.pyplot as plt\n",
        "%matplotlib inline"
      ],
      "execution_count": null,
      "outputs": []
    },
    {
      "cell_type": "markdown",
      "metadata": {
        "id": "IIXYVwDydKnI"
      },
      "source": [
        "Download the dataset from internet and extract it on the system\n",
        "\n",
        "NB: replace the link by a new one using this URL in case of an issue like \"file is not a zipfile\" https://www.mediafire.com/file/d0ds64c4gsev1d3/dataset.zip/file"
      ]
    },
    {
      "cell_type": "code",
      "metadata": {
        "id": "BniX6cxMdOE6"
      },
      "source": [
        "zipurl = 'https://download1475.mediafire.com/dsl45rqm7j7g/d0ds64c4gsev1d3/dataset.zip'\n",
        "with urlopen(zipurl) as zipresp:\n",
        "  with ZipFile(BytesIO(zipresp.read())) as zfile:\n",
        "    zfile.extractall()"
      ],
      "execution_count": null,
      "outputs": []
    },
    {
      "cell_type": "markdown",
      "metadata": {
        "id": "b13-6x_ldR3V"
      },
      "source": [
        "Extracting metadata from artist.csv"
      ]
    },
    {
      "cell_type": "code",
      "metadata": {
        "colab": {
          "base_uri": "https://localhost:8080/"
        },
        "id": "duzXnZZmdU6y",
        "outputId": "3d67cd73-1164-428a-d651-9a6c4a069d47"
      },
      "source": [
        "artists=pd.read_csv('/content/dataset/artists.csv')\n",
        "artists['name'][19]='Albrecht_Durer' #fix ASCII problems\n",
        "tmp=artists['name']\n",
        "name=[tmp[i].replace(' ','_') for i in range(len(tmp))]#replace space by underscore, more convinent to import images\n",
        "tmp=artists['genre']\n",
        "genre=[tmp[i].replace(',','/') for i in range(len(tmp))]#replace coma by slash, avoid mistakes in list\n",
        "nb_paints=artists['paintings']"
      ],
      "execution_count": null,
      "outputs": [
        {
          "output_type": "stream",
          "text": [
            "/usr/local/lib/python3.7/dist-packages/ipykernel_launcher.py:2: SettingWithCopyWarning: \n",
            "A value is trying to be set on a copy of a slice from a DataFrame\n",
            "\n",
            "See the caveats in the documentation: https://pandas.pydata.org/pandas-docs/stable/user_guide/indexing.html#returning-a-view-versus-a-copy\n",
            "  \n"
          ],
          "name": "stderr"
        }
      ]
    },
    {
      "cell_type": "code",
      "metadata": {
        "id": "6OSBRm5SeMF3"
      },
      "source": [
        "artworks=[]\n",
        "for i in range(len(nb_paints)):\n",
        "  for j in range(nb_paints[i]):\n",
        "    artworks.append(plt.imread(f'/content/dataset/images/{name[i]}/{name[i]}_{j+1}.jpg'))"
      ],
      "execution_count": null,
      "outputs": []
    },
    {
      "cell_type": "code",
      "metadata": {
        "id": "zzr5SiISeagz"
      },
      "source": [
        ""
      ],
      "execution_count": null,
      "outputs": []
    }
  ]
}