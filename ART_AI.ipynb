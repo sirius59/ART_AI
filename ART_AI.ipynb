{
  "nbformat": 4,
  "nbformat_minor": 0,
  "metadata": {
    "colab": {
      "name": "notebook_project.ipynb",
      "private_outputs": true,
      "provenance": [],
      "collapsed_sections": [],
      "include_colab_link": true
    },
    "kernelspec": {
      "name": "python3",
      "display_name": "Python 3"
    },
    "language_info": {
      "name": "python"
    },
    "accelerator": "GPU"
  },
  "cells": [
    {
      "cell_type": "markdown",
      "metadata": {
        "id": "view-in-github",
        "colab_type": "text"
      },
      "source": [
        "<a href=\"https://colab.research.google.com/github/sirius59/ART_AI/blob/main/ART_AI.ipynb\" target=\"_parent\"><img src=\"https://colab.research.google.com/assets/colab-badge.svg\" alt=\"Open In Colab\"/></a>"
      ]
    },
    {
      "cell_type": "markdown",
      "metadata": {
        "id": "LJhtNeeayES0"
      },
      "source": [
        "Import libraries"
      ]
    },
    {
      "cell_type": "code",
      "metadata": {
        "id": "_Ik5Qe_7x7-o"
      },
      "source": [
        "from io import BytesIO\n",
        "from urllib.request import urlopen\n",
        "from zipfile import ZipFile\n",
        "import pandas as pd\n",
        "import numpy as np\n",
        "import matplotlib.pyplot as plt\n",
        "%matplotlib inline"
      ],
      "execution_count": null,
      "outputs": []
    },
    {
      "cell_type": "markdown",
      "metadata": {
        "id": "QppfPNCXyH8n"
      },
      "source": [
        "Download the dataset from internet and extract it on the system\n",
        "\n",
        "NB: replace the link by a new one using this URL in case of an issue like \"file is not a zipfile\" https://www.mediafire.com/file/adz8egq4w9dqyv1/dataset.zip/file"
      ]
    },
    {
      "cell_type": "code",
      "metadata": {
        "id": "q46df0MhySq5"
      },
      "source": [
        "zipurl = 'http://download2278.mediafire.com/syuqxoy9md0g/adz8egq4w9dqyv1/dataset.zip'\n",
        "with urlopen(zipurl) as zipresp:\n",
        "  with ZipFile(BytesIO(zipresp.read())) as zfile:\n",
        "    zfile.extractall()"
      ],
      "execution_count": null,
      "outputs": []
    },
    {
      "cell_type": "markdown",
      "metadata": {
        "id": "MAKZro7771MV"
      },
      "source": [
        "Extracting metadata from artist.csv"
      ]
    },
    {
      "cell_type": "code",
      "metadata": {
        "id": "J-uUe2Wf54tH"
      },
      "source": [
        "artists=pd.read_csv('/content/dataset/artists.csv')\n",
        "artists['name',19]='Albrecht_Durer' #fix ASCII problems\n",
        "tmp=artists['name']\n",
        "name=[tmp[i].replace(' ','_') for i in range(len(tmp))]#replace space by underscore, more convinent to import images\n",
        "tmp=artists['genre']\n",
        "genre=[tmp[i].replace(',','/') for i in range(len(tmp))]#replace coma by slash, avoid mistakes in list\n",
        "nb_paints=artists['paintings']"
      ],
      "execution_count": null,
      "outputs": []
    },
    {
      "cell_type": "code",
      "metadata": {
        "id": "02nrNIziKKid"
      },
      "source": [
        "artworks=[]\n",
        "for i in range(len(nb_paints)):\n",
        "  for j in range(nb_paints[i]):\n",
        "    artworks.append(plt.imread(f'/content/dataset/images/{name[i]}/{name[i]}_{j+1}.jpg'))"
      ],
      "execution_count": null,
      "outputs": []
    },
    {
      "cell_type": "code",
      "metadata": {
        "id": "iu5mNH8SLske"
      },
      "source": [
        ""
      ],
      "execution_count": null,
      "outputs": []
    },
    {
      "cell_type": "code",
      "metadata": {
        "id": "Z7DkvpPvLzEj"
      },
      "source": [
        ""
      ],
      "execution_count": null,
      "outputs": []
    }
  ]
}